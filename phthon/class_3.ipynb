{
  "nbformat": 4,
  "nbformat_minor": 0,
  "metadata": {
    "colab": {
      "name": "class_3.ipynb",
      "provenance": [],
      "collapsed_sections": []
    },
    "kernelspec": {
      "name": "python3",
      "display_name": "Python 3"
    },
    "language_info": {
      "name": "python"
    }
  },
  "cells": [
    {
      "cell_type": "code",
      "metadata": {
        "id": "vGR0FqxZErRe"
      },
      "source": [
        "class Counter:\n",
        "  \n",
        "  def __init__(self, number=0):\n",
        "    if number >= 100 or number <= -1:\n",
        "      self.number = 0\n",
        "    else:\n",
        "      self.number = number\n",
        "\n",
        "  def reset(self):\n",
        "    self.number = 0\n",
        "\n",
        "  def inc(self):\n",
        "    if self.number+ 1 >=100:\n",
        "      self.number = 0\n",
        "    else:\n",
        "      self.number +=1\n",
        "\n",
        "  def dec(self):\n",
        "    if self.number -1 <= -1:\n",
        "      self.number = 0\n",
        "    else:\n",
        "      self.number += -1\n",
        "\n",
        "  def count_print(self):\n",
        "    print(\"number의 값은 %d 입니다\" %(self.number))\n",
        "\n",
        "  def __add__(self,other):\n",
        "    if self.number + other.number < 100:\n",
        "      return Counter(self.number + other.number)\n",
        "    else:\n",
        "      return Counter(0) \n",
        "    \n",
        "  def __sub__(self,other):\n",
        "    if self.number - other.number > -1 :\n",
        "      return Counter(self.number - other.number)\n",
        "    else:\n",
        "      return Counter(0)\n",
        "\n",
        "  def __str__(self):\n",
        "    return 'C(%d)'%(self.number)"
      ],
      "execution_count": null,
      "outputs": []
    },
    {
      "cell_type": "code",
      "metadata": {
        "colab": {
          "base_uri": "https://localhost:8080/"
        },
        "id": "qDrKUecqUv5u",
        "outputId": "50cfb92e-1473-49b2-e2db-7c8d4efb9aa2"
      },
      "source": [
        "c1=Counter(10)\n",
        "c2=Counter(20)\n",
        "c3 = c1 + c2\n",
        "c4 = c1 - c2\n",
        "\n",
        "print('c3=',c3)\n",
        "print('c4=',c4)"
      ],
      "execution_count": null,
      "outputs": [
        {
          "output_type": "stream",
          "name": "stdout",
          "text": [
            "c3= C(30)\n",
            "c4= C(0)\n"
          ]
        }
      ]
    },
    {
      "cell_type": "code",
      "metadata": {
        "id": "uEqnBZ4-FHi-"
      },
      "source": [
        "class TV():\n",
        "  def __init__(self,channel, volume,on=True):\n",
        "    self.channel = channel\n",
        "    self.volume =volume\n",
        "    self.on = on\n",
        "\n",
        "  def turnOn(self,on):\n",
        "    self.on = on\n",
        "  def turnOff(self,off):\n",
        "    self.on = off\n",
        "  def setChannel(self,channel):\n",
        "    self.channel = channel\n",
        "\n",
        "  def setVolume(self,volume):\n",
        "    self.volume = volume\n",
        "  \n",
        "  def __str__(self):\n",
        "    return 'TV의 채널 :%d, TV의 음량: %d'%(self.channel, self.volume)\n",
        "\n",
        "  "
      ],
      "execution_count": 1,
      "outputs": []
    },
    {
      "cell_type": "code",
      "metadata": {
        "colab": {
          "base_uri": "https://localhost:8080/"
        },
        "id": "eADonPfZUp21",
        "outputId": "8b20a157-8d5c-467b-eafc-7ae5ea9f2f83"
      },
      "source": [
        "tv = TV(11,6)\n",
        "print(tv)\n",
        "\n",
        "\n",
        "tv.setChannel(8)\n",
        "tv.setVolume(10)\n",
        "print(tv)"
      ],
      "execution_count": 7,
      "outputs": [
        {
          "output_type": "stream",
          "name": "stdout",
          "text": [
            "TV의 채널 :11, TV의 음량: 6\n",
            "TV의 채널 :8, TV의 음량: 10\n"
          ]
        }
      ]
    },
    {
      "cell_type": "code",
      "metadata": {
        "id": "K8N_s5OCUtCm"
      },
      "source": [
        ""
      ],
      "execution_count": null,
      "outputs": []
    }
  ]
}