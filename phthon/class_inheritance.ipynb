{
  "nbformat": 4,
  "nbformat_minor": 0,
  "metadata": {
    "colab": {
      "name": "class_inheritance.ipynb",
      "provenance": [],
      "collapsed_sections": []
    },
    "kernelspec": {
      "name": "python3",
      "display_name": "Python 3"
    },
    "language_info": {
      "name": "python"
    }
  },
  "cells": [
    {
      "cell_type": "code",
      "metadata": {
        "colab": {
          "base_uri": "https://localhost:8080/"
        },
        "id": "d0uIODUU3QrA",
        "outputId": "b8579bc4-10cf-4701-f188-2ef49588650b"
      },
      "source": [
        "\"\"\"\n",
        "Inheritance Lab\n",
        "\"\"\"\n",
        "class Shape:\n",
        "  def __init__(self,x,y):\n",
        "    self.x = x\n",
        "    self.y = y\n",
        "\n",
        "  def area(self):\n",
        "    print('알 수 없음')\n",
        "  def perimeter(self):\n",
        "    print('알 수 없음')\n",
        "\n",
        "class Rectangle(Shape):\n",
        "  def __init__(self,x,y,w,h):\n",
        "    super().__init__(x,y)\n",
        "    self.w = w\n",
        "    self.h = h\n",
        "  \n",
        "  def area(self):\n",
        "    return self.w * self.h\n",
        "\n",
        "  def perimeter(self):\n",
        "    return 2*(self.w + self.h)\n",
        "\n",
        "r= Rectangle(1,2,3,4)\n",
        "print(\"사각형의 면적\", r.area())\n",
        "print(\"사각형의 둘레\", r.perimeter())"
      ],
      "execution_count": 25,
      "outputs": [
        {
          "output_type": "stream",
          "name": "stdout",
          "text": [
            "사각형의 면적 12\n",
            "사각형의 둘레 14\n"
          ]
        }
      ]
    },
    {
      "cell_type": "markdown",
      "metadata": {
        "id": "s3t55sbjrfpB"
      },
      "source": [
        ""
      ]
    },
    {
      "cell_type": "code",
      "metadata": {
        "id": "r3vn25k-3R0i",
        "colab": {
          "base_uri": "https://localhost:8080/"
        },
        "outputId": "8d2d4f96-ee73-4641-d7d8-aa723bb35a66"
      },
      "source": [
        "class Person():\n",
        "  def __init__ (self,name,id):\n",
        "    self.name = name\n",
        "    self.id = id \n",
        "    \n",
        "class Student(Person):\n",
        "  UDNERGRADUATE = 0\n",
        "  POSTGRADUATE = 1\n",
        "\n",
        "\n",
        "  def __init__(self,name,id,studentType):\n",
        "    super(). __init__(name,id)\n",
        "    self.studentType = studentType\n",
        "    self.gpa = 0 \n",
        "    self.classes=[]\n",
        "\n",
        "  def enrollCourse(self,course):\n",
        "    self.classes.append(course)\n",
        "\n",
        "  def __str__(self):\n",
        "    return \"\\n이름=\" + self.name + \"\\n주민번호 = \" + self.id + \"\\n수강과목 =\" + str(self.classes) + \"\\n평점 = \" +str(self.gpa)\n",
        "\n",
        "class Teacher(Person):\n",
        "  def __init__(self,name,id):\n",
        "    super().__init__(name,id)\n",
        "    self.courses = []\n",
        "    self.salary =3000000\n",
        "\n",
        "  def assignTeaching(self,course):\n",
        "    self.courses.append(course)\n",
        "    \n",
        "  def __str__(self):\n",
        "    return \"\\n이름\" + self.name + \"\\n주민번호\" + self.id + \"\\n강의과목\" + str(self.courses) + \"\\n월급\" + str(self.salary)\n",
        "\n",
        "\n",
        "hong = Student(\"홍길동\",\"12345678\",Student.UDNERGRADUATE)\n",
        "hong.enrollCourse(\"자료구조\")\n",
        "print(hong)\n",
        "\n",
        "kim = Teacher(\"김철수\",\"123456790\")\n",
        "kim.assignTeaching(\"Python\")\n",
        "print(kim)"
      ],
      "execution_count": 26,
      "outputs": [
        {
          "output_type": "stream",
          "name": "stdout",
          "text": [
            "\n",
            "이름=홍길동\n",
            "주민번호 = 12345678\n",
            "수강과목 =['자료구조']\n",
            "평점 = 0\n",
            "\n",
            "이름김철수\n",
            "주민번호123456790\n",
            "강의과목['Python']\n",
            "월급3000000\n"
          ]
        }
      ]
    },
    {
      "cell_type": "code",
      "metadata": {
        "colab": {
          "base_uri": "https://localhost:8080/"
        },
        "id": "vf14ZILWszkD",
        "outputId": "64690544-a0bf-4c6f-c92f-9afd24389f2d"
      },
      "source": [
        "class BankAccount():\n",
        "  def __init__(self,name,number,balance):\n",
        "    self.balance = balance\n",
        "    self.name = name\n",
        "    self.number = number\n",
        "\n",
        "  def withdraw(self,amount):\n",
        "    self.balance -= amount\n",
        "    return self.balance\n",
        "\n",
        "  def deposit(self, amount):\n",
        "    self.balance += amount\n",
        "    return self.balance\n",
        "\n",
        "  \n",
        "class SavingAccount(BankAccount):\n",
        "  def __init__(self,name,number,balance,interest_rate):\n",
        "    super().__init__(name,number,balance)\n",
        "    self.interest_rate = interest_rate\n",
        "\n",
        "  def set_interest_rate(self,interest_rate):\n",
        "    self.interest_rate = interest_rate\n",
        "\n",
        "  def get_interset_rate(self,interest_rate):\n",
        "    return self.interest_rate\n",
        "  \n",
        "  def add_interest(self):\n",
        "    self.balance += self.balance*self.interest_rate\n",
        "\n",
        "class CheckingAccount(BankAccount):\n",
        "  def __init__ (self, balance, name, number):\n",
        "    super().__init__(balance, name, number)\n",
        "    self.withdraw_charge = 10000\n",
        "\n",
        "  def withdraw(self,amount):\n",
        "     return BankAccount.withdraw(self, amount + self.withdraw_charge)\n",
        "\n",
        "a1 = SavingAccount(\"홍길동\",123456,10000,0.05)\n",
        "a1.add_interest()\n",
        "print(\"저축금액의 잔액=\", a1.balance)\n",
        "\n",
        "a2 = CheckingAccount(\"김철수\",123457,200000)\n",
        "a2.withdraw(10000)\n",
        "print(\"당좌예금의 잔액=\",a2.balance)"
      ],
      "execution_count": 39,
      "outputs": [
        {
          "output_type": "stream",
          "name": "stdout",
          "text": [
            "저축금액의 잔액= 10500.0\n",
            "당좌예금의 잔액= 180000\n"
          ]
        }
      ]
    },
    {
      "cell_type": "code",
      "metadata": {
        "colab": {
          "base_uri": "https://localhost:8080/"
        },
        "id": "SpI0818cyTMZ",
        "outputId": "31659741-231f-4ff0-f6cb-5271a2aa7f56"
      },
      "source": [
        "class Employee ():\n",
        "  def __init__ (self,name,salary):\n",
        "    self.name = name\n",
        "    self.salary = salary\n",
        "\n",
        "  def getSalary(self):\n",
        "    return salary\n",
        "\n",
        "class Manager(Employee):\n",
        "  def __init__(self,name,salary,bonus):\n",
        "    super().__init__(name,salary)\n",
        "    self.bonus = bonus\n",
        "\n",
        "  def getSalary(self):\n",
        "    salary = super().getSalary()\n",
        "    return salary + self.bonus\n",
        "  def __repr__(self):\n",
        "    return \"이름: \" + self.name + \"\\n월급: \" + str(self.salary) + \"\\n보너스: \" +str(self.bonus)\n",
        "\n",
        "kim = Manager(\"김철수\",2000000,100000)\n",
        "print(kim)"
      ],
      "execution_count": 49,
      "outputs": [
        {
          "output_type": "stream",
          "name": "stdout",
          "text": [
            "이름: 김철수\n",
            "월급: 2000000\n",
            "보너스: 100000\n"
          ]
        }
      ]
    },
    {
      "cell_type": "code",
      "metadata": {
        "id": "PlaCdAIv6S_M"
      },
      "source": [
        ""
      ],
      "execution_count": null,
      "outputs": []
    }
  ]
}